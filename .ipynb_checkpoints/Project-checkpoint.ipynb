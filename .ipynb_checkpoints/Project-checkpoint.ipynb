{
 "cells": [
  {
   "cell_type": "markdown",
   "metadata": {},
   "source": [
    "# Hi,Please note that I don't have any domain knowledge of stocks and cryptos'.I am not aware of what these numbers are.I have done some research online but  it was some more complicated than I thought of,so as to complete the assignment I have made a lot of assumptions.I hope you would understand.Thanks"
   ]
  },
  {
   "cell_type": "code",
   "execution_count": 362,
   "metadata": {
    "collapsed": true
   },
   "outputs": [],
   "source": [
    "import numpy as np\n",
    "import pandas as pd\n",
    "import matplotlib.pyplot as plt\n",
    "import seaborn as sns\n",
    "%matplotlib inline\n"
   ]
  },
  {
   "cell_type": "markdown",
   "metadata": {},
   "source": [
    "We are reading crypto data file in below line"
   ]
  },
  {
   "cell_type": "code",
   "execution_count": 363,
   "metadata": {
    "collapsed": true
   },
   "outputs": [],
   "source": [
    "data1=pd.read_csv('data/allcoinUSD.csv',header=None)"
   ]
  },
  {
   "cell_type": "code",
   "execution_count": 364,
   "metadata": {},
   "outputs": [
    {
     "data": {
      "text/html": [
       "<div>\n",
       "<style>\n",
       "    .dataframe thead tr:only-child th {\n",
       "        text-align: right;\n",
       "    }\n",
       "\n",
       "    .dataframe thead th {\n",
       "        text-align: left;\n",
       "    }\n",
       "\n",
       "    .dataframe tbody tr th {\n",
       "        vertical-align: top;\n",
       "    }\n",
       "</style>\n",
       "<table border=\"1\" class=\"dataframe\">\n",
       "  <thead>\n",
       "    <tr style=\"text-align: right;\">\n",
       "      <th></th>\n",
       "      <th>0</th>\n",
       "      <th>1</th>\n",
       "      <th>2</th>\n",
       "    </tr>\n",
       "  </thead>\n",
       "  <tbody>\n",
       "    <tr>\n",
       "      <th>0</th>\n",
       "      <td>1498860260</td>\n",
       "      <td>2630.94</td>\n",
       "      <td>0.0714</td>\n",
       "    </tr>\n",
       "    <tr>\n",
       "      <th>1</th>\n",
       "      <td>1498860287</td>\n",
       "      <td>2630.90</td>\n",
       "      <td>0.0240</td>\n",
       "    </tr>\n",
       "    <tr>\n",
       "      <th>2</th>\n",
       "      <td>1498860314</td>\n",
       "      <td>2630.94</td>\n",
       "      <td>0.0758</td>\n",
       "    </tr>\n",
       "    <tr>\n",
       "      <th>3</th>\n",
       "      <td>1498860338</td>\n",
       "      <td>2630.90</td>\n",
       "      <td>0.0285</td>\n",
       "    </tr>\n",
       "    <tr>\n",
       "      <th>4</th>\n",
       "      <td>1498860370</td>\n",
       "      <td>2630.95</td>\n",
       "      <td>0.0803</td>\n",
       "    </tr>\n",
       "  </tbody>\n",
       "</table>\n",
       "</div>"
      ],
      "text/plain": [
       "            0        1       2\n",
       "0  1498860260  2630.94  0.0714\n",
       "1  1498860287  2630.90  0.0240\n",
       "2  1498860314  2630.94  0.0758\n",
       "3  1498860338  2630.90  0.0285\n",
       "4  1498860370  2630.95  0.0803"
      ]
     },
     "execution_count": 364,
     "metadata": {},
     "output_type": "execute_result"
    }
   ],
   "source": [
    "data1.head()"
   ]
  },
  {
   "cell_type": "code",
   "execution_count": 365,
   "metadata": {},
   "outputs": [
    {
     "name": "stderr",
     "output_type": "stream",
     "text": [
      "C:\\Users\\Akshay\\Anaconda3\\lib\\site-packages\\ipykernel_launcher.py:3: FutureWarning: how in .resample() is deprecated\n",
      "the new syntax is .resample(...).ohlc()\n",
      "  This is separate from the ipykernel package so we can avoid doing imports until\n"
     ]
    }
   ],
   "source": [
    "data1[0]=pd.to_datetime(data1[0],unit='s')\n",
    "data1=data1.set_index(0,drop=True)\n",
    "data1_new= data1[1].resample('60Min', how='ohlc')\n",
    "data1_new['volume'] = data1[2].resample('60Min').sum()\n"
   ]
  },
  {
   "cell_type": "markdown",
   "metadata": {},
   "source": [
    "In below roe, I have reset the index back to normal and I have removed the timestamp(will tell you further)"
   ]
  },
  {
   "cell_type": "code",
   "execution_count": 366,
   "metadata": {},
   "outputs": [
    {
     "data": {
      "text/html": [
       "<div>\n",
       "<style>\n",
       "    .dataframe thead tr:only-child th {\n",
       "        text-align: right;\n",
       "    }\n",
       "\n",
       "    .dataframe thead th {\n",
       "        text-align: left;\n",
       "    }\n",
       "\n",
       "    .dataframe tbody tr th {\n",
       "        vertical-align: top;\n",
       "    }\n",
       "</style>\n",
       "<table border=\"1\" class=\"dataframe\">\n",
       "  <thead>\n",
       "    <tr style=\"text-align: right;\">\n",
       "      <th></th>\n",
       "      <th>open</th>\n",
       "      <th>high</th>\n",
       "      <th>low</th>\n",
       "      <th>close</th>\n",
       "      <th>volume</th>\n",
       "    </tr>\n",
       "  </thead>\n",
       "  <tbody>\n",
       "    <tr>\n",
       "      <th>0</th>\n",
       "      <td>2630.94</td>\n",
       "      <td>2631.45</td>\n",
       "      <td>2391.75</td>\n",
       "      <td>2391.78</td>\n",
       "      <td>24.9506</td>\n",
       "    </tr>\n",
       "    <tr>\n",
       "      <th>1</th>\n",
       "      <td>2391.76</td>\n",
       "      <td>2392.75</td>\n",
       "      <td>2389.76</td>\n",
       "      <td>2392.63</td>\n",
       "      <td>43.5163</td>\n",
       "    </tr>\n",
       "    <tr>\n",
       "      <th>2</th>\n",
       "      <td>2391.41</td>\n",
       "      <td>2392.89</td>\n",
       "      <td>2385.16</td>\n",
       "      <td>2391.84</td>\n",
       "      <td>53.5828</td>\n",
       "    </tr>\n",
       "    <tr>\n",
       "      <th>3</th>\n",
       "      <td>2392.29</td>\n",
       "      <td>2571.92</td>\n",
       "      <td>2391.40</td>\n",
       "      <td>2511.05</td>\n",
       "      <td>38.4715</td>\n",
       "    </tr>\n",
       "    <tr>\n",
       "      <th>4</th>\n",
       "      <td>2509.97</td>\n",
       "      <td>2590.90</td>\n",
       "      <td>2501.66</td>\n",
       "      <td>2580.00</td>\n",
       "      <td>8.7675</td>\n",
       "    </tr>\n",
       "  </tbody>\n",
       "</table>\n",
       "</div>"
      ],
      "text/plain": [
       "      open     high      low    close   volume\n",
       "0  2630.94  2631.45  2391.75  2391.78  24.9506\n",
       "1  2391.76  2392.75  2389.76  2392.63  43.5163\n",
       "2  2391.41  2392.89  2385.16  2391.84  53.5828\n",
       "3  2392.29  2571.92  2391.40  2511.05  38.4715\n",
       "4  2509.97  2590.90  2501.66  2580.00   8.7675"
      ]
     },
     "execution_count": 366,
     "metadata": {},
     "output_type": "execute_result"
    }
   ],
   "source": [
    "data1_new=data1_new.reset_index(drop=True)\n",
    "data1_new.head()"
   ]
  },
  {
   "cell_type": "markdown",
   "metadata": {},
   "source": [
    "In below row, I have read the another csv file SP600, I have got it from Web API and is already in form of OHLC "
   ]
  },
  {
   "cell_type": "code",
   "execution_count": 367,
   "metadata": {
    "collapsed": true
   },
   "outputs": [],
   "source": [
    "data2=pd.read_csv('data/intraday_60min_CTL (1).csv')\n",
    "data2['timestamp']=pd.to_datetime(data2['timestamp'])"
   ]
  },
  {
   "cell_type": "code",
   "execution_count": 368,
   "metadata": {},
   "outputs": [
    {
     "data": {
      "text/html": [
       "<div>\n",
       "<style>\n",
       "    .dataframe thead tr:only-child th {\n",
       "        text-align: right;\n",
       "    }\n",
       "\n",
       "    .dataframe thead th {\n",
       "        text-align: left;\n",
       "    }\n",
       "\n",
       "    .dataframe tbody tr th {\n",
       "        vertical-align: top;\n",
       "    }\n",
       "</style>\n",
       "<table border=\"1\" class=\"dataframe\">\n",
       "  <thead>\n",
       "    <tr style=\"text-align: right;\">\n",
       "      <th></th>\n",
       "      <th>timestamp</th>\n",
       "      <th>open</th>\n",
       "      <th>high</th>\n",
       "      <th>low</th>\n",
       "      <th>close</th>\n",
       "      <th>volume</th>\n",
       "    </tr>\n",
       "  </thead>\n",
       "  <tbody>\n",
       "    <tr>\n",
       "      <th>0</th>\n",
       "      <td>2018-02-15 16:00:00</td>\n",
       "      <td>19.0893</td>\n",
       "      <td>19.15</td>\n",
       "      <td>18.9150</td>\n",
       "      <td>19.1400</td>\n",
       "      <td>6389472</td>\n",
       "    </tr>\n",
       "    <tr>\n",
       "      <th>1</th>\n",
       "      <td>2018-02-15 15:00:00</td>\n",
       "      <td>19.0000</td>\n",
       "      <td>19.15</td>\n",
       "      <td>18.9000</td>\n",
       "      <td>19.0868</td>\n",
       "      <td>2145129</td>\n",
       "    </tr>\n",
       "    <tr>\n",
       "      <th>2</th>\n",
       "      <td>2018-02-15 14:00:00</td>\n",
       "      <td>18.6061</td>\n",
       "      <td>19.05</td>\n",
       "      <td>18.6061</td>\n",
       "      <td>19.0100</td>\n",
       "      <td>2690466</td>\n",
       "    </tr>\n",
       "    <tr>\n",
       "      <th>3</th>\n",
       "      <td>2018-02-15 13:00:00</td>\n",
       "      <td>18.5300</td>\n",
       "      <td>18.67</td>\n",
       "      <td>18.4800</td>\n",
       "      <td>18.6052</td>\n",
       "      <td>1037678</td>\n",
       "    </tr>\n",
       "    <tr>\n",
       "      <th>4</th>\n",
       "      <td>2018-02-15 12:00:00</td>\n",
       "      <td>18.5900</td>\n",
       "      <td>18.71</td>\n",
       "      <td>18.4200</td>\n",
       "      <td>18.5130</td>\n",
       "      <td>1902622</td>\n",
       "    </tr>\n",
       "  </tbody>\n",
       "</table>\n",
       "</div>"
      ],
      "text/plain": [
       "            timestamp     open   high      low    close   volume\n",
       "0 2018-02-15 16:00:00  19.0893  19.15  18.9150  19.1400  6389472\n",
       "1 2018-02-15 15:00:00  19.0000  19.15  18.9000  19.0868  2145129\n",
       "2 2018-02-15 14:00:00  18.6061  19.05  18.6061  19.0100  2690466\n",
       "3 2018-02-15 13:00:00  18.5300  18.67  18.4800  18.6052  1037678\n",
       "4 2018-02-15 12:00:00  18.5900  18.71  18.4200  18.5130  1902622"
      ]
     },
     "execution_count": 368,
     "metadata": {},
     "output_type": "execute_result"
    }
   ],
   "source": [
    "data2.head()"
   ]
  },
  {
   "cell_type": "markdown",
   "metadata": {},
   "source": [
    "In row below,I have matched the timestamp of SP600 to previous crypto data thats why I have removed the timestamp first.As I was not able to find the exact timestamp data for SP600 and crypto. "
   ]
  },
  {
   "cell_type": "code",
   "execution_count": 369,
   "metadata": {
    "collapsed": true
   },
   "outputs": [],
   "source": [
    "data1_new['timestamp']=data2['timestamp']"
   ]
  },
  {
   "cell_type": "code",
   "execution_count": 370,
   "metadata": {},
   "outputs": [
    {
     "data": {
      "text/html": [
       "<div>\n",
       "<style>\n",
       "    .dataframe thead tr:only-child th {\n",
       "        text-align: right;\n",
       "    }\n",
       "\n",
       "    .dataframe thead th {\n",
       "        text-align: left;\n",
       "    }\n",
       "\n",
       "    .dataframe tbody tr th {\n",
       "        vertical-align: top;\n",
       "    }\n",
       "</style>\n",
       "<table border=\"1\" class=\"dataframe\">\n",
       "  <thead>\n",
       "    <tr style=\"text-align: right;\">\n",
       "      <th></th>\n",
       "      <th>open</th>\n",
       "      <th>high</th>\n",
       "      <th>low</th>\n",
       "      <th>close</th>\n",
       "      <th>volume</th>\n",
       "      <th>timestamp</th>\n",
       "    </tr>\n",
       "  </thead>\n",
       "  <tbody>\n",
       "    <tr>\n",
       "      <th>0</th>\n",
       "      <td>2630.94</td>\n",
       "      <td>2631.45</td>\n",
       "      <td>2391.75</td>\n",
       "      <td>2391.78</td>\n",
       "      <td>24.9506</td>\n",
       "      <td>2018-02-15 16:00:00</td>\n",
       "    </tr>\n",
       "    <tr>\n",
       "      <th>1</th>\n",
       "      <td>2391.76</td>\n",
       "      <td>2392.75</td>\n",
       "      <td>2389.76</td>\n",
       "      <td>2392.63</td>\n",
       "      <td>43.5163</td>\n",
       "      <td>2018-02-15 15:00:00</td>\n",
       "    </tr>\n",
       "    <tr>\n",
       "      <th>2</th>\n",
       "      <td>2391.41</td>\n",
       "      <td>2392.89</td>\n",
       "      <td>2385.16</td>\n",
       "      <td>2391.84</td>\n",
       "      <td>53.5828</td>\n",
       "      <td>2018-02-15 14:00:00</td>\n",
       "    </tr>\n",
       "    <tr>\n",
       "      <th>3</th>\n",
       "      <td>2392.29</td>\n",
       "      <td>2571.92</td>\n",
       "      <td>2391.40</td>\n",
       "      <td>2511.05</td>\n",
       "      <td>38.4715</td>\n",
       "      <td>2018-02-15 13:00:00</td>\n",
       "    </tr>\n",
       "    <tr>\n",
       "      <th>4</th>\n",
       "      <td>2509.97</td>\n",
       "      <td>2590.90</td>\n",
       "      <td>2501.66</td>\n",
       "      <td>2580.00</td>\n",
       "      <td>8.7675</td>\n",
       "      <td>2018-02-15 12:00:00</td>\n",
       "    </tr>\n",
       "  </tbody>\n",
       "</table>\n",
       "</div>"
      ],
      "text/plain": [
       "      open     high      low    close   volume           timestamp\n",
       "0  2630.94  2631.45  2391.75  2391.78  24.9506 2018-02-15 16:00:00\n",
       "1  2391.76  2392.75  2389.76  2392.63  43.5163 2018-02-15 15:00:00\n",
       "2  2391.41  2392.89  2385.16  2391.84  53.5828 2018-02-15 14:00:00\n",
       "3  2392.29  2571.92  2391.40  2511.05  38.4715 2018-02-15 13:00:00\n",
       "4  2509.97  2590.90  2501.66  2580.00   8.7675 2018-02-15 12:00:00"
      ]
     },
     "execution_count": 370,
     "metadata": {},
     "output_type": "execute_result"
    }
   ],
   "source": [
    "data1_new.head()"
   ]
  },
  {
   "cell_type": "code",
   "execution_count": 371,
   "metadata": {
    "collapsed": true
   },
   "outputs": [],
   "source": [
    "data1=data1_new.loc[:69,:]"
   ]
  },
  {
   "cell_type": "markdown",
   "metadata": {},
   "source": [
    "In below row, I have interpolaed the missing values in the bitcoin data."
   ]
  },
  {
   "cell_type": "code",
   "execution_count": 372,
   "metadata": {
    "collapsed": true
   },
   "outputs": [],
   "source": [
    "data1=data1.interpolate()"
   ]
  },
  {
   "cell_type": "markdown",
   "metadata": {},
   "source": [
    "# Sheet 2 -I was only able to do this in correlation  "
   ]
  },
  {
   "cell_type": "code",
   "execution_count": 373,
   "metadata": {},
   "outputs": [
    {
     "data": {
      "text/plain": [
       "open     -0.394915\n",
       "high     -0.296628\n",
       "low      -0.530166\n",
       "close    -0.449444\n",
       "volume    0.156748\n",
       "dtype: float64"
      ]
     },
     "execution_count": 373,
     "metadata": {},
     "output_type": "execute_result"
    }
   ],
   "source": [
    "data1.corrwith(data2)"
   ]
  },
  {
   "cell_type": "code",
   "execution_count": null,
   "metadata": {
    "collapsed": true
   },
   "outputs": [],
   "source": []
  },
  {
   "cell_type": "code",
   "execution_count": null,
   "metadata": {
    "collapsed": true
   },
   "outputs": [],
   "source": []
  },
  {
   "cell_type": "code",
   "execution_count": null,
   "metadata": {
    "collapsed": true
   },
   "outputs": [],
   "source": []
  },
  {
   "cell_type": "markdown",
   "metadata": {},
   "source": [
    "# Sheet 3 -Model Training (For determining the positive bets, I have created a new column that is going  to be 1 if the close price is higer than the opening price)"
   ]
  },
  {
   "cell_type": "code",
   "execution_count": null,
   "metadata": {
    "collapsed": true
   },
   "outputs": [],
   "source": []
  },
  {
   "cell_type": "code",
   "execution_count": 318,
   "metadata": {},
   "outputs": [
    {
     "data": {
      "text/html": [
       "<div>\n",
       "<style>\n",
       "    .dataframe thead tr:only-child th {\n",
       "        text-align: right;\n",
       "    }\n",
       "\n",
       "    .dataframe thead th {\n",
       "        text-align: left;\n",
       "    }\n",
       "\n",
       "    .dataframe tbody tr th {\n",
       "        vertical-align: top;\n",
       "    }\n",
       "</style>\n",
       "<table border=\"1\" class=\"dataframe\">\n",
       "  <thead>\n",
       "    <tr style=\"text-align: right;\">\n",
       "      <th></th>\n",
       "      <th>timestamp</th>\n",
       "      <th>open</th>\n",
       "      <th>high</th>\n",
       "      <th>low</th>\n",
       "      <th>close</th>\n",
       "      <th>volume</th>\n",
       "    </tr>\n",
       "  </thead>\n",
       "  <tbody>\n",
       "    <tr>\n",
       "      <th>0</th>\n",
       "      <td>2018-02-15 16:00:00</td>\n",
       "      <td>19.0893</td>\n",
       "      <td>19.15</td>\n",
       "      <td>18.9150</td>\n",
       "      <td>19.1400</td>\n",
       "      <td>6389472</td>\n",
       "    </tr>\n",
       "    <tr>\n",
       "      <th>1</th>\n",
       "      <td>2018-02-15 15:00:00</td>\n",
       "      <td>19.0000</td>\n",
       "      <td>19.15</td>\n",
       "      <td>18.9000</td>\n",
       "      <td>19.0868</td>\n",
       "      <td>2145129</td>\n",
       "    </tr>\n",
       "    <tr>\n",
       "      <th>2</th>\n",
       "      <td>2018-02-15 14:00:00</td>\n",
       "      <td>18.6061</td>\n",
       "      <td>19.05</td>\n",
       "      <td>18.6061</td>\n",
       "      <td>19.0100</td>\n",
       "      <td>2690466</td>\n",
       "    </tr>\n",
       "    <tr>\n",
       "      <th>3</th>\n",
       "      <td>2018-02-15 13:00:00</td>\n",
       "      <td>18.5300</td>\n",
       "      <td>18.67</td>\n",
       "      <td>18.4800</td>\n",
       "      <td>18.6052</td>\n",
       "      <td>1037678</td>\n",
       "    </tr>\n",
       "    <tr>\n",
       "      <th>4</th>\n",
       "      <td>2018-02-15 12:00:00</td>\n",
       "      <td>18.5900</td>\n",
       "      <td>18.71</td>\n",
       "      <td>18.4200</td>\n",
       "      <td>18.5130</td>\n",
       "      <td>1902622</td>\n",
       "    </tr>\n",
       "  </tbody>\n",
       "</table>\n",
       "</div>"
      ],
      "text/plain": [
       "            timestamp     open   high      low    close   volume\n",
       "0 2018-02-15 16:00:00  19.0893  19.15  18.9150  19.1400  6389472\n",
       "1 2018-02-15 15:00:00  19.0000  19.15  18.9000  19.0868  2145129\n",
       "2 2018-02-15 14:00:00  18.6061  19.05  18.6061  19.0100  2690466\n",
       "3 2018-02-15 13:00:00  18.5300  18.67  18.4800  18.6052  1037678\n",
       "4 2018-02-15 12:00:00  18.5900  18.71  18.4200  18.5130  1902622"
      ]
     },
     "execution_count": 318,
     "metadata": {},
     "output_type": "execute_result"
    }
   ],
   "source": [
    "data2.head()"
   ]
  },
  {
   "cell_type": "code",
   "execution_count": 319,
   "metadata": {
    "collapsed": true
   },
   "outputs": [],
   "source": [
    "data2['target']=np.where(data2['close']>data2['open'],1,0)"
   ]
  },
  {
   "cell_type": "code",
   "execution_count": 320,
   "metadata": {},
   "outputs": [
    {
     "data": {
      "text/html": [
       "<div>\n",
       "<style>\n",
       "    .dataframe thead tr:only-child th {\n",
       "        text-align: right;\n",
       "    }\n",
       "\n",
       "    .dataframe thead th {\n",
       "        text-align: left;\n",
       "    }\n",
       "\n",
       "    .dataframe tbody tr th {\n",
       "        vertical-align: top;\n",
       "    }\n",
       "</style>\n",
       "<table border=\"1\" class=\"dataframe\">\n",
       "  <thead>\n",
       "    <tr style=\"text-align: right;\">\n",
       "      <th></th>\n",
       "      <th>timestamp</th>\n",
       "      <th>open</th>\n",
       "      <th>high</th>\n",
       "      <th>low</th>\n",
       "      <th>close</th>\n",
       "      <th>volume</th>\n",
       "      <th>target</th>\n",
       "    </tr>\n",
       "  </thead>\n",
       "  <tbody>\n",
       "    <tr>\n",
       "      <th>0</th>\n",
       "      <td>2018-02-15 16:00:00</td>\n",
       "      <td>19.0893</td>\n",
       "      <td>19.15</td>\n",
       "      <td>18.9150</td>\n",
       "      <td>19.1400</td>\n",
       "      <td>6389472</td>\n",
       "      <td>1</td>\n",
       "    </tr>\n",
       "    <tr>\n",
       "      <th>1</th>\n",
       "      <td>2018-02-15 15:00:00</td>\n",
       "      <td>19.0000</td>\n",
       "      <td>19.15</td>\n",
       "      <td>18.9000</td>\n",
       "      <td>19.0868</td>\n",
       "      <td>2145129</td>\n",
       "      <td>1</td>\n",
       "    </tr>\n",
       "    <tr>\n",
       "      <th>2</th>\n",
       "      <td>2018-02-15 14:00:00</td>\n",
       "      <td>18.6061</td>\n",
       "      <td>19.05</td>\n",
       "      <td>18.6061</td>\n",
       "      <td>19.0100</td>\n",
       "      <td>2690466</td>\n",
       "      <td>1</td>\n",
       "    </tr>\n",
       "    <tr>\n",
       "      <th>3</th>\n",
       "      <td>2018-02-15 13:00:00</td>\n",
       "      <td>18.5300</td>\n",
       "      <td>18.67</td>\n",
       "      <td>18.4800</td>\n",
       "      <td>18.6052</td>\n",
       "      <td>1037678</td>\n",
       "      <td>1</td>\n",
       "    </tr>\n",
       "    <tr>\n",
       "      <th>4</th>\n",
       "      <td>2018-02-15 12:00:00</td>\n",
       "      <td>18.5900</td>\n",
       "      <td>18.71</td>\n",
       "      <td>18.4200</td>\n",
       "      <td>18.5130</td>\n",
       "      <td>1902622</td>\n",
       "      <td>0</td>\n",
       "    </tr>\n",
       "  </tbody>\n",
       "</table>\n",
       "</div>"
      ],
      "text/plain": [
       "            timestamp     open   high      low    close   volume  target\n",
       "0 2018-02-15 16:00:00  19.0893  19.15  18.9150  19.1400  6389472       1\n",
       "1 2018-02-15 15:00:00  19.0000  19.15  18.9000  19.0868  2145129       1\n",
       "2 2018-02-15 14:00:00  18.6061  19.05  18.6061  19.0100  2690466       1\n",
       "3 2018-02-15 13:00:00  18.5300  18.67  18.4800  18.6052  1037678       1\n",
       "4 2018-02-15 12:00:00  18.5900  18.71  18.4200  18.5130  1902622       0"
      ]
     },
     "execution_count": 320,
     "metadata": {},
     "output_type": "execute_result"
    }
   ],
   "source": [
    "data2.head()"
   ]
  },
  {
   "cell_type": "code",
   "execution_count": 321,
   "metadata": {
    "collapsed": true
   },
   "outputs": [],
   "source": [
    "from sklearn.model_selection import train_test_split"
   ]
  },
  {
   "cell_type": "markdown",
   "metadata": {},
   "source": [
    "Below I have split the 10% data into test set"
   ]
  },
  {
   "cell_type": "code",
   "execution_count": 322,
   "metadata": {
    "collapsed": true
   },
   "outputs": [],
   "source": [
    "X=data2[['open','high','low','close','volume']]\n",
    "y=data2['target']\n",
    "X_train, X_test, y_train, y_test = train_test_split(X, y, test_size=0.1, random_state=42)"
   ]
  },
  {
   "cell_type": "markdown",
   "metadata": {},
   "source": [
    "Below XGBClassifier imported as this is the classig=fication problem"
   ]
  },
  {
   "cell_type": "code",
   "execution_count": 327,
   "metadata": {
    "collapsed": true
   },
   "outputs": [],
   "source": [
    "from xgboost import XGBClassifier"
   ]
  },
  {
   "cell_type": "code",
   "execution_count": 328,
   "metadata": {
    "collapsed": true
   },
   "outputs": [],
   "source": [
    "classifier=XGBClassifier()"
   ]
  },
  {
   "cell_type": "code",
   "execution_count": 330,
   "metadata": {},
   "outputs": [
    {
     "data": {
      "text/plain": [
       "XGBClassifier(base_score=0.5, colsample_bylevel=1, colsample_bytree=1,\n",
       "       gamma=0, learning_rate=0.1, max_delta_step=0, max_depth=3,\n",
       "       min_child_weight=1, missing=None, n_estimators=100, nthread=-1,\n",
       "       objective='binary:logistic', reg_alpha=0, reg_lambda=1,\n",
       "       scale_pos_weight=1, seed=0, silent=True, subsample=1)"
      ]
     },
     "execution_count": 330,
     "metadata": {},
     "output_type": "execute_result"
    }
   ],
   "source": [
    "classifier.fit(X_train,y_train)"
   ]
  },
  {
   "cell_type": "code",
   "execution_count": null,
   "metadata": {
    "collapsed": true
   },
   "outputs": [],
   "source": []
  },
  {
   "cell_type": "markdown",
   "metadata": {},
   "source": [
    "Below SVM imported "
   ]
  },
  {
   "cell_type": "code",
   "execution_count": 374,
   "metadata": {
    "collapsed": true
   },
   "outputs": [],
   "source": [
    "from sklearn import svm"
   ]
  },
  {
   "cell_type": "code",
   "execution_count": 376,
   "metadata": {
    "collapsed": true
   },
   "outputs": [],
   "source": [
    "svc=svm.SVC().fit(X_train,y_train)"
   ]
  },
  {
   "cell_type": "code",
   "execution_count": null,
   "metadata": {
    "collapsed": true
   },
   "outputs": [],
   "source": []
  },
  {
   "cell_type": "markdown",
   "metadata": {},
   "source": [
    "We are going to use cross validation score to calculate accuracy"
   ]
  },
  {
   "cell_type": "code",
   "execution_count": 337,
   "metadata": {
    "collapsed": true
   },
   "outputs": [],
   "source": [
    "from sklearn.model_selection import cross_val_score"
   ]
  },
  {
   "cell_type": "code",
   "execution_count": 338,
   "metadata": {
    "collapsed": true
   },
   "outputs": [],
   "source": [
    "accuracies=cross_val_score(estimator=classifier,X=X_train,y=y_train,cv=10,n_jobs=1)"
   ]
  },
  {
   "cell_type": "markdown",
   "metadata": {},
   "source": [
    "\n",
    "\n",
    "Below is mean of accuracies for XGboost"
   ]
  },
  {
   "cell_type": "code",
   "execution_count": 339,
   "metadata": {},
   "outputs": [
    {
     "data": {
      "text/plain": [
       "0.60476190476190472"
      ]
     },
     "execution_count": 339,
     "metadata": {},
     "output_type": "execute_result"
    }
   ],
   "source": [
    "accuracies.mean()"
   ]
  },
  {
   "cell_type": "markdown",
   "metadata": {},
   "source": [
    "Below is mean of accuracies for SVM"
   ]
  },
  {
   "cell_type": "code",
   "execution_count": 377,
   "metadata": {
    "collapsed": true
   },
   "outputs": [],
   "source": [
    "accuracies=cross_val_score(estimator=svc,X=X_train,y=y_train,cv=10,n_jobs=1)"
   ]
  },
  {
   "cell_type": "code",
   "execution_count": 378,
   "metadata": {},
   "outputs": [
    {
     "data": {
      "text/plain": [
       "0.55571428571428561"
      ]
     },
     "execution_count": 378,
     "metadata": {},
     "output_type": "execute_result"
    }
   ],
   "source": [
    "accuracies.mean()"
   ]
  },
  {
   "cell_type": "code",
   "execution_count": 1,
   "metadata": {
    "collapsed": true
   },
   "outputs": [],
   "source": [
    "from sklearn.metrics import roc_auc_score"
   ]
  },
  {
   "cell_type": "code",
   "execution_count": null,
   "metadata": {
    "collapsed": true
   },
   "outputs": [],
   "source": []
  }
 ],
 "metadata": {
  "kernelspec": {
   "display_name": "Python 3",
   "language": "python",
   "name": "python3"
  },
  "language_info": {
   "codemirror_mode": {
    "name": "ipython",
    "version": 3
   },
   "file_extension": ".py",
   "mimetype": "text/x-python",
   "name": "python",
   "nbconvert_exporter": "python",
   "pygments_lexer": "ipython3",
   "version": "3.6.3"
  }
 },
 "nbformat": 4,
 "nbformat_minor": 2
}
